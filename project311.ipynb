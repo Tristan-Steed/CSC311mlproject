{
 "cells": [
  {
   "cell_type": "code",
   "execution_count": 12,
   "metadata": {},
   "outputs": [
    {
     "name": "stdout",
     "output_type": "stream",
     "text": [
      "9999\n",
      "785\n",
      "784\n",
      "[0 0 0 ... 0 0 0]\n"
     ]
    },
    {
     "name": "stderr",
     "output_type": "stream",
     "text": [
      "/anaconda3/lib/python3.7/site-packages/ipykernel_launcher.py:5: FutureWarning: Method .as_matrix will be removed in a future version. Use .values instead.\n",
      "  \"\"\"\n"
     ]
    }
   ],
   "source": [
    "import numpy as np\n",
    "import matplotlib as pt\n",
    "import pandas as pd\n",
    "\n",
    "data=pd.read_csv(\"mnist_data_selection.csv\").as_matrix()\n",
    "\n",
    "#Get the number of training examples\n",
    "print(len(data))\n",
    "#Get the lenth of the first column\n",
    "print(len(data[0]))\n",
    "\n",
    "#Split the data using 80% training and 20% testing\n",
    "#training\n",
    "xtrain=data[0:8000,1:]\n",
    "xtrainlabel=data[0:8000,0]\n",
    "#testing\n",
    "xtest=data[8000:,1:]\n",
    "xtestabel=data[8000:,0]\n",
    "\n",
    "print(len(xtrain[0]))\n",
    "print(xtrainlabel)"
   ]
  },
  {
   "cell_type": "code",
   "execution_count": null,
   "metadata": {},
   "outputs": [],
   "source": []
  }
 ],
 "metadata": {
  "kernelspec": {
   "display_name": "Python 3",
   "language": "python",
   "name": "python3"
  },
  "language_info": {
   "codemirror_mode": {
    "name": "ipython",
    "version": 3
   },
   "file_extension": ".py",
   "mimetype": "text/x-python",
   "name": "python",
   "nbconvert_exporter": "python",
   "pygments_lexer": "ipython3",
   "version": "3.7.3"
  }
 },
 "nbformat": 4,
 "nbformat_minor": 2
}
