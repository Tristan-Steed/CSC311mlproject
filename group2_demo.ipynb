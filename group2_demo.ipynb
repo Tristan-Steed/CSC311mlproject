{
 "cells": [
  {
   "cell_type": "markdown",
   "metadata": {},
   "source": [
    "# Importing libraries and getting test data for plotting"
   ]
  },
  {
   "cell_type": "code",
   "execution_count": 2,
   "metadata": {},
   "outputs": [],
   "source": [
    "import numpy as np\n",
    "from sklearn.preprocessing import StandardScaler\n",
    "import matplotlib.pyplot as plt\n",
    "import pandas as pd\n",
    "\"\"\" Importing test files for ploting digit\"\"\"\n",
    "\n",
    "data = np.genfromtxt(\"group2_te.csv\",delimiter=\",\", dtype=\"int\")\n",
    "n = data.shape[1] - 1\n",
    "X_test = data[:,0:n]\n",
    "y_test = data[:,n:n+1]"
   ]
  },
  {
   "cell_type": "markdown",
   "metadata": {},
   "source": [
    "# Scaling test data"
   ]
  },
  {
   "cell_type": "code",
   "execution_count": 3,
   "metadata": {},
   "outputs": [
    {
     "name": "stderr",
     "output_type": "stream",
     "text": [
      "/anaconda3/lib/python3.7/site-packages/sklearn/utils/validation.py:595: DataConversionWarning: Data with input dtype int64 was converted to float64 by StandardScaler.\n",
      "  warnings.warn(msg, DataConversionWarning)\n",
      "/anaconda3/lib/python3.7/site-packages/sklearn/utils/validation.py:595: DataConversionWarning: Data with input dtype int64 was converted to float64 by StandardScaler.\n",
      "  warnings.warn(msg, DataConversionWarning)\n"
     ]
    }
   ],
   "source": [
    "sc = StandardScaler()\n",
    "sc.fit(X_test)\n",
    "X_test = sc.transform(X_test)"
   ]
  },
  {
   "cell_type": "markdown",
   "metadata": {},
   "source": [
    "# Importing Tkinter and libraries"
   ]
  },
  {
   "cell_type": "code",
   "execution_count": 4,
   "metadata": {},
   "outputs": [],
   "source": [
    "from tkinter import *\n",
    "import pickle as pk\n",
    "import numpy as np\n",
    "from sklearn.preprocessing import StandardScaler"
   ]
  },
  {
   "cell_type": "markdown",
   "metadata": {},
   "source": [
    "# Importing the model"
   ]
  },
  {
   "cell_type": "code",
   "execution_count": 5,
   "metadata": {},
   "outputs": [],
   "source": [
    "import pickle\n",
    "f = open('Logistc_regression_model','rb')\n",
    "clf = pickle.load(f)"
   ]
  },
  {
   "cell_type": "markdown",
   "metadata": {},
   "source": [
    "# Importing for plot"
   ]
  },
  {
   "cell_type": "code",
   "execution_count": 6,
   "metadata": {},
   "outputs": [],
   "source": [
    "import matplotlib\n",
    "matplotlib.use(\"TkAgg\")\n",
    "from matplotlib.backends.backend_tkagg import FigureCanvasTkAgg\n",
    "from matplotlib.figure import Figure"
   ]
  },
  {
   "cell_type": "markdown",
   "metadata": {},
   "source": [
    "# Mainloop"
   ]
  },
  {
   "cell_type": "code",
   "execution_count": 7,
   "metadata": {},
   "outputs": [
    {
     "name": "stderr",
     "output_type": "stream",
     "text": [
      "Exception in Tkinter callback\n",
      "Traceback (most recent call last):\n",
      "  File \"/anaconda3/lib/python3.7/tkinter/__init__.py\", line 1705, in __call__\n",
      "    return self.func(*args)\n",
      "  File \"<ipython-input-7-aec757d550ea>\", line 11, in Predict\n",
      "    X = X_test[indextoshow]\n",
      "IndexError: index 9000 is out of bounds for axis 0 with size 2000\n",
      "Exception in Tkinter callback\n",
      "Traceback (most recent call last):\n",
      "  File \"/anaconda3/lib/python3.7/tkinter/__init__.py\", line 1705, in __call__\n",
      "    return self.func(*args)\n",
      "  File \"<ipython-input-7-aec757d550ea>\", line 11, in Predict\n",
      "    X = X_test[indextoshow]\n",
      "IndexError: index 9000 is out of bounds for axis 0 with size 2000\n",
      "Exception in Tkinter callback\n",
      "Traceback (most recent call last):\n",
      "  File \"/anaconda3/lib/python3.7/tkinter/__init__.py\", line 1705, in __call__\n",
      "    return self.func(*args)\n",
      "  File \"<ipython-input-7-aec757d550ea>\", line 11, in Predict\n",
      "    X = X_test[indextoshow]\n",
      "IndexError: index 2000 is out of bounds for axis 0 with size 2000\n",
      "Exception in Tkinter callback\n",
      "Traceback (most recent call last):\n",
      "  File \"/anaconda3/lib/python3.7/tkinter/__init__.py\", line 1705, in __call__\n",
      "    return self.func(*args)\n",
      "  File \"<ipython-input-7-aec757d550ea>\", line 11, in Predict\n",
      "    X = X_test[indextoshow]\n",
      "IndexError: index 2000 is out of bounds for axis 0 with size 2000\n"
     ]
    },
    {
     "name": "stdout",
     "output_type": "stream",
     "text": [
      "[4]\n"
     ]
    },
    {
     "name": "stderr",
     "output_type": "stream",
     "text": [
      "Exception in Tkinter callback\n",
      "Traceback (most recent call last):\n",
      "  File \"/anaconda3/lib/python3.7/tkinter/__init__.py\", line 1705, in __call__\n",
      "    return self.func(*args)\n",
      "  File \"<ipython-input-7-aec757d550ea>\", line 17, in Predict\n",
      "    canvas = FigureCanvasTkAgg(a)\n",
      "  File \"/anaconda3/lib/python3.7/site-packages/matplotlib/backends/_backend_tk.py\", line 204, in __init__\n",
      "    super(FigureCanvasTk, self).__init__(figure)\n",
      "  File \"/anaconda3/lib/python3.7/site-packages/matplotlib/backend_bases.py\", line 1618, in __init__\n",
      "    figure.set_canvas(self)\n",
      "AttributeError: 'AxesImage' object has no attribute 'set_canvas'\n"
     ]
    }
   ],
   "source": [
    "Filename = \"Logistc_regression_model\"\n",
    "svm_model = pk.load(open(Filename,\"rb\"))\n",
    "\n",
    "main = Tk()\n",
    "main.title(\"Demo\")\n",
    "\n",
    "def Predict():                     # function for svm model\n",
    "    entry1 = en1.get()\n",
    "    indextoshow = entry1\n",
    "\n",
    "    X = X_test[indextoshow]\n",
    "    X.shape = (28, 28)\n",
    "    a = plt.imshow(255-X, 'gray', interpolation=\"nearest\")\n",
    "\n",
    "    y_pred = clf.predict( [X_test[indextoshow]] )\n",
    "    print(y_pred)\n",
    "    canvas = FigureCanvasTkAgg(a)\n",
    "    canvas.show()\n",
    "    canvas.get_tk_widget().pack(side=tk.BOTTOM, fill=tk.BOTH, expand=True)\n",
    "    \n",
    "    #B1 = Button(main,text = \"Predict\")\n",
    "en1  = IntVar()\n",
    "e1 = Entry(main, textvariable = en1).grid(row = 0, column = 1)\n",
    "l1 = Label(main, text=\"Index\").grid(row = 0)\n",
    "b1 = Button(main, text = \"Predict\", command = Predict).grid(row = 7, column = 1)\n",
    "\n",
    "\n",
    "main.mainloop() \n"
   ]
  },
  {
   "cell_type": "code",
   "execution_count": null,
   "metadata": {},
   "outputs": [],
   "source": []
  },
  {
   "cell_type": "markdown",
   "metadata": {},
   "source": [
    "# "
   ]
  },
  {
   "cell_type": "code",
   "execution_count": null,
   "metadata": {},
   "outputs": [],
   "source": []
  }
 ],
 "metadata": {
  "kernelspec": {
   "display_name": "Python 3",
   "language": "python",
   "name": "python3"
  },
  "language_info": {
   "codemirror_mode": {
    "name": "ipython",
    "version": 3
   },
   "file_extension": ".py",
   "mimetype": "text/x-python",
   "name": "python",
   "nbconvert_exporter": "python",
   "pygments_lexer": "ipython3",
   "version": "3.7.3"
  }
 },
 "nbformat": 4,
 "nbformat_minor": 2
}
