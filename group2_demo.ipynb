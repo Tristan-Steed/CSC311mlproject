{
 "cells": [
  {
   "cell_type": "code",
   "execution_count": 1,
   "metadata": {
    "collapsed": false
   },
   "outputs": [
   ],
   "source": [
    "import tkinter as tk\n",
    "from tkinter import font as tkfont\n"
   ]
  },
  {
   "cell_type": "code",
   "execution_count": 2,
   "metadata": {
    "collapsed": false
   },
   "outputs": [
   ],
   "source": [
    "class demo(tk.Tk):\n",
    "    \n",
    "    def __init__(self,*args,**kwargs):\n",
    "        tk.Tk.__init__(self,*args,**kwargs)\n",
    "        \n",
    "        self.title_font = tkfont.Font(family='Helvetica', size=18, weight=\"bold\", slant=\"italic\")\n",
    "        \n",
    "        container = tk.Frame(self)\n",
    "        container.pack(side=\"top\",fill=\"both\",expand=True)\n",
    "        container.grid_rowconfigure(0,weight=1)\n",
    "        container.grid_columnconfigure(0,weight=1)\n",
    "        \n",
    "        self.frames = {}\n",
    "        for F in(mainframe,NN,SVM,LOG):\n",
    "            page_name = F.__name__\n",
    "            frame = F(parent=container,controller=self)\n",
    "            self.frames[page_name] = frame\n",
    "            \n",
    "            frame.grid(row=0,column=0,sticky=\"nsew\")\n",
    "        \n",
    "        self.show_frame(\"mainframe\")\n",
    "        \n",
    "    def show_frame(self,page_name):\n",
    "        frame = self.frames[page_name]\n",
    "        frame.tkraise()\n",
    "        \n",
    "\n",
    "#frame for NN\n",
    "class mainframe(tk.Frame):\n",
    "    \n",
    "    def __init__(self, parent, controller):\n",
    "        tk.Frame.__init__(self, parent)\n",
    "        mainframe.configure(self,background='lightblue')\n",
    "        self.controller = controller\n",
    "        label = tk.Label(self, text=\"This is the main screen\", font=controller.title_font)\n",
    "        label.pack(side=\"top\", fill=\"x\", pady=10)\n",
    "        \n",
    "        \n",
    "        button1 = tk.Button(self, text=\"Go to Page Neural Network\",\n",
    "                            command=lambda: controller.show_frame(\"NN\"))\n",
    "        button2 = tk.Button(self, text=\"Go to Support Vector Machine\",\n",
    "                            command=lambda: controller.show_frame(\"SVM\"))\n",
    "        button3 = tk.Button(self, text =\"Go to Logistic Regression\", \n",
    "                            command = lambda: controller.show_frame(\"LOG\"))\n",
    "        button1.pack()\n",
    "        button2.pack()\n",
    "        button3.pack()\n",
    "    \n",
    "        "
   ]
  },
  {
   "cell_type": "code",
   "execution_count": 3,
   "metadata": {
    "collapsed": false
   },
   "outputs": [
   ],
   "source": [
    "#frame for nerual network\n",
    "\n",
    "class NN(tk.Frame):\n",
    "\n",
    "    def __init__(self, parent, controller):\n",
    "        \n",
    "        tk.Frame.__init__(self, parent)\n",
    "        self.controller = controller\n",
    "        NN.configure(self,background='lightblue')\n",
    "        label = tk.Label(self, text=\"This is neural network\", font=controller.title_font)\n",
    "        label.pack(side=\"top\", fill=\"x\", pady=10)\n",
    "        button = tk.Button(self, text=\"Go to the main screen\",\n",
    "                           command=lambda: controller.show_frame(\"mainframe\"))\n",
    "        \n",
    "        \n",
    "        \n",
    "        la3 = tk.Label(self,text=\"Start index\")\n",
    "        la4 = tk.Label(self,text=\"Stop index\")\n",
    "        \n",
    "        e1 = tk.Entry()\n",
    "        e2 = tk.Entry()\n",
    "       \n",
    "        la3.pack(side=\"left\")\n",
    "        la4.pack(side=\"left\")\n",
    "        button.pack()\n",
    "        \n",
    "\n",
    "    \n",
    "        \n"
   ]
  },
  {
   "cell_type": "code",
   "execution_count": 4,
   "metadata": {
    "collapsed": false
   },
   "outputs": [
    {
     "ename": "SyntaxError",
     "evalue": "invalid syntax (<ipython-input-4-296b71e4a066>, line 20)",
     "output_type": "error",
     "traceback": [
      "\u001b[0;36m  File \u001b[0;32m\"<ipython-input-4-296b71e4a066>\"\u001b[0;36m, line \u001b[0;32m20\u001b[0m\n\u001b[0;31m    la1.pack(row=3,column=)\u001b[0m\n\u001b[0m                          ^\u001b[0m\n\u001b[0;31mSyntaxError\u001b[0m\u001b[0;31m:\u001b[0m invalid syntax\n"
     ]
    }
   ],
   "source": [
    "#frame for support vector machine\n",
    "\n",
    "class SVM(tk.Frame):\n",
    "\n",
    "    def __init__(self, parent, controller):\n",
    "       \n",
    "        tk.Frame.__init__(self, parent)\n",
    "        self.controller = controller     \n",
    "        SVM.configure(self,background='lightblue')\n",
    "        label = tk.Label(self, text=\"This is support vector machine\", font=controller.title_font)\n",
    "        label.pack(side=\"top\", fill=\"x\", pady=10)\n",
    "        la1 = tk.Label(self,text=\"Start index\")\n",
    "        la2 = tk.Label(self,text=\"Stop index\")\n",
    "        \n",
    "        \n",
    "        \n",
    "        button = tk.Button(self, text=\"Go to the main screen\",\n",
    "                           command=lambda: controller.show_frame(\"mainframe\"))\n",
    "        button.pack()\n",
    "        la1.pack(row=3,column=)\n",
    "        la2.pack()"
   ]
  },
  {
   "cell_type": "code",
   "execution_count": 5,
   "metadata": {
    "collapsed": false
   },
   "outputs": [
   ],
   "source": [
    "#frame for logistic Regression\n",
    "\n",
    "#train the data\n",
    "from sklearn.datasets import fetch_mldata\n",
    "import numpy as np\n",
    "import matplotlib.pyplot as plt\n",
    "from sklearn.model_selection import train_test_split\n",
    "\n",
    "mnist = fetch_mldata('MNIST original')\n",
    "\n",
    "print(mnist.data.shape)\n",
    "print(mnist.target.shape)\n",
    "\n",
    "from sklearn.model_selection import train_test_split\n",
    "train_img, test_img, train_lbl, test_lbl = train_test_split(mnist.data, mnist.target, test_size=1/7.0, random_state=0)\n",
    "\n",
    "#Optimise the data\n",
    "\n",
    "from sklearn.linear_model import LogisticRegression\n",
    "\n",
    "#Built in solver \n",
    "logisticRegr = LogisticRegression(solver = 'lbfgs')\n",
    "logisticRegr.fit(train_img, train_lbl)\n",
    "\n",
    "#Make predictions on first 100 images\n",
    "predicted=logisticRegr.predict(test_img[0:100])\n",
    "\n",
    "#Make predictions on the entire set of data\n",
    "#predictions = logisticRegr.predict(test_img)\n",
    "\n",
    "#Accuracy\n",
    "score = logisticRegr.score(test_img, test_lbl)\n",
    "print(score)\n",
    "\n",
    "#f1 score\n",
    "from sklearn.metrics import f1_score\n",
    "from sklearn.metrics import classification_report\n",
    "print(f1_score(test_lbl[0:100],predicted, average='macro'))\n",
    "\n",
    "print(classification_report(test_lbl[0:100],predicted))\n",
    "\n",
    "\n",
    "\n",
    "#frame for logistic Regression\n",
    "\n",
    "class LOG(tk.Frame):\n",
    "\n",
    "    def __init__(self, parent, controller):\n",
    "        \n",
    "        tk.Frame.__init__(self, parent)\n",
    "        self.controller = controller\n",
    "        NN.configure(self,background='lightblue')\n",
    "        label = tk.Label(self, text=\"This is Logistic regression\", font=controller.title_font)\n",
    "        label.pack(side=\"top\", fill=\"x\", pady=10)\n",
    "        button = tk.Button(self, text=\"Go to the main screen\",\n",
    "                           command=lambda: controller.show_frame(\"mainframe\"))\n",
    "        \n",
    "        \n",
    "        \n",
    "        la3 = tk.Label(self,text=\"Start index\")\n",
    "        la4 = tk.Label(self,text=\"Stop index\")\n",
    "        \n",
    "        e1 = tk.Entry()\n",
    "        e2 = tk.Entry()\n",
    "       \n",
    "        la3.pack(side=\"left\")\n",
    "        la4.pack(side=\"left\")\n",
    "        button.pack()\n",
    "        \n",
    "        start = int(la3)\n",
    "        stop= int(la4)\n",
    "\n",
    "        startstopdiff=stop-start\n",
    "\n",
    "        plt.figure(figsize=(20,4))\n",
    "        for index, (image, label) in enumerate(zip(test_img[start:stop],logisticRegr.predict(test_img[start:stop]))):\n",
    "            plt.subplot(1, startstopdiff, index + 1)\n",
    "            plt.imshow(np.reshape(image, (28,28)), cmap=plt.cm.gray)\n",
    "            plt.title('predicted: %i\\n' % label, fontsize = 20)       \n",
    "        "
   ]
  },
  {
   "cell_type": "code",
   "execution_count": 6,
   "metadata": {
    "collapsed": false
   },
   "outputs": [
    {
     "ename": "TclError",
     "evalue": "couldn't connect to display \":0\"",
     "output_type": "error",
     "traceback": [
      "\u001b[0;31m---------------------------------------------------------------------------\u001b[0m",
      "\u001b[0;31mTclError\u001b[0m                                  Traceback (most recent call last)",
      "\u001b[0;32m<ipython-input-6-1eceabb9017c>\u001b[0m in \u001b[0;36m<module>\u001b[0;34m()\u001b[0m\n\u001b[1;32m      1\u001b[0m \u001b[0;32mif\u001b[0m \u001b[0m__name__\u001b[0m \u001b[0;34m==\u001b[0m \u001b[0;34m'__main__'\u001b[0m\u001b[0;34m:\u001b[0m\u001b[0;34m\u001b[0m\u001b[0;34m\u001b[0m\u001b[0m\n\u001b[0;32m----> 2\u001b[0;31m         \u001b[0mapp\u001b[0m \u001b[0;34m=\u001b[0m \u001b[0mdemo\u001b[0m\u001b[0;34m(\u001b[0m\u001b[0;34m)\u001b[0m\u001b[0;34m\u001b[0m\u001b[0;34m\u001b[0m\u001b[0m\n\u001b[0m\u001b[1;32m      3\u001b[0m         \u001b[0mapp\u001b[0m\u001b[0;34m.\u001b[0m\u001b[0mmainloop\u001b[0m\u001b[0;34m(\u001b[0m\u001b[0;34m)\u001b[0m\u001b[0;34m\u001b[0m\u001b[0;34m\u001b[0m\u001b[0m\n",
      "\u001b[0;32m<ipython-input-2-6bcbd01ff42d>\u001b[0m in \u001b[0;36m__init__\u001b[0;34m(self, *args, **kwargs)\u001b[0m\n\u001b[1;32m      2\u001b[0m \u001b[0;34m\u001b[0m\u001b[0m\n\u001b[1;32m      3\u001b[0m     \u001b[0;32mdef\u001b[0m \u001b[0m__init__\u001b[0m\u001b[0;34m(\u001b[0m\u001b[0mself\u001b[0m\u001b[0;34m,\u001b[0m\u001b[0;34m*\u001b[0m\u001b[0margs\u001b[0m\u001b[0;34m,\u001b[0m\u001b[0;34m**\u001b[0m\u001b[0mkwargs\u001b[0m\u001b[0;34m)\u001b[0m\u001b[0;34m:\u001b[0m\u001b[0;34m\u001b[0m\u001b[0;34m\u001b[0m\u001b[0m\n\u001b[0;32m----> 4\u001b[0;31m         \u001b[0mtk\u001b[0m\u001b[0;34m.\u001b[0m\u001b[0mTk\u001b[0m\u001b[0;34m.\u001b[0m\u001b[0m__init__\u001b[0m\u001b[0;34m(\u001b[0m\u001b[0mself\u001b[0m\u001b[0;34m,\u001b[0m\u001b[0;34m*\u001b[0m\u001b[0margs\u001b[0m\u001b[0;34m,\u001b[0m\u001b[0;34m**\u001b[0m\u001b[0mkwargs\u001b[0m\u001b[0;34m)\u001b[0m\u001b[0;34m\u001b[0m\u001b[0;34m\u001b[0m\u001b[0m\n\u001b[0m\u001b[1;32m      5\u001b[0m \u001b[0;34m\u001b[0m\u001b[0m\n\u001b[1;32m      6\u001b[0m         \u001b[0mself\u001b[0m\u001b[0;34m.\u001b[0m\u001b[0mtitle_font\u001b[0m \u001b[0;34m=\u001b[0m \u001b[0mtkfont\u001b[0m\u001b[0;34m.\u001b[0m\u001b[0mFont\u001b[0m\u001b[0;34m(\u001b[0m\u001b[0mfamily\u001b[0m\u001b[0;34m=\u001b[0m\u001b[0;34m'Helvetica'\u001b[0m\u001b[0;34m,\u001b[0m \u001b[0msize\u001b[0m\u001b[0;34m=\u001b[0m\u001b[0;36m18\u001b[0m\u001b[0;34m,\u001b[0m \u001b[0mweight\u001b[0m\u001b[0;34m=\u001b[0m\u001b[0;34m\"bold\"\u001b[0m\u001b[0;34m,\u001b[0m \u001b[0mslant\u001b[0m\u001b[0;34m=\u001b[0m\u001b[0;34m\"italic\"\u001b[0m\u001b[0;34m)\u001b[0m\u001b[0;34m\u001b[0m\u001b[0;34m\u001b[0m\u001b[0m\n",
      "\u001b[0;32m/usr/lib/python3.6/tkinter/__init__.py\u001b[0m in \u001b[0;36m__init__\u001b[0;34m(self, screenName, baseName, className, useTk, sync, use)\u001b[0m\n\u001b[1;32m   2021\u001b[0m                 \u001b[0mbaseName\u001b[0m \u001b[0;34m=\u001b[0m \u001b[0mbaseName\u001b[0m \u001b[0;34m+\u001b[0m \u001b[0mext\u001b[0m\u001b[0;34m\u001b[0m\u001b[0;34m\u001b[0m\u001b[0m\n\u001b[1;32m   2022\u001b[0m         \u001b[0minteractive\u001b[0m \u001b[0;34m=\u001b[0m \u001b[0;36m0\u001b[0m\u001b[0;34m\u001b[0m\u001b[0;34m\u001b[0m\u001b[0m\n\u001b[0;32m-> 2023\u001b[0;31m         \u001b[0mself\u001b[0m\u001b[0;34m.\u001b[0m\u001b[0mtk\u001b[0m \u001b[0;34m=\u001b[0m \u001b[0m_tkinter\u001b[0m\u001b[0;34m.\u001b[0m\u001b[0mcreate\u001b[0m\u001b[0;34m(\u001b[0m\u001b[0mscreenName\u001b[0m\u001b[0;34m,\u001b[0m \u001b[0mbaseName\u001b[0m\u001b[0;34m,\u001b[0m \u001b[0mclassName\u001b[0m\u001b[0;34m,\u001b[0m \u001b[0minteractive\u001b[0m\u001b[0;34m,\u001b[0m \u001b[0mwantobjects\u001b[0m\u001b[0;34m,\u001b[0m \u001b[0museTk\u001b[0m\u001b[0;34m,\u001b[0m \u001b[0msync\u001b[0m\u001b[0;34m,\u001b[0m \u001b[0muse\u001b[0m\u001b[0;34m)\u001b[0m\u001b[0;34m\u001b[0m\u001b[0;34m\u001b[0m\u001b[0m\n\u001b[0m\u001b[1;32m   2024\u001b[0m         \u001b[0;32mif\u001b[0m \u001b[0museTk\u001b[0m\u001b[0;34m:\u001b[0m\u001b[0;34m\u001b[0m\u001b[0;34m\u001b[0m\u001b[0m\n\u001b[1;32m   2025\u001b[0m             \u001b[0mself\u001b[0m\u001b[0;34m.\u001b[0m\u001b[0m_loadtk\u001b[0m\u001b[0;34m(\u001b[0m\u001b[0;34m)\u001b[0m\u001b[0;34m\u001b[0m\u001b[0;34m\u001b[0m\u001b[0m\n",
      "\u001b[0;31mTclError\u001b[0m: couldn't connect to display \":0\""
     ]
    }
   ],
   "source": [
    "if __name__ == '__main__':\n",
    "        app = demo()\n",
    "        app.mainloop()"
   ]
  },
  {
   "cell_type": "code",
   "execution_count": 0,
   "metadata": {
    "collapsed": false
   },
   "outputs": [
   ],
   "source": [
   ]
  },
  {
   "cell_type": "code",
   "execution_count": 0,
   "metadata": {
    "collapsed": false
   },
   "outputs": [
   ],
   "source": [
   ]
  }
 ],
 "metadata": {
  "kernelspec": {
   "display_name": "Python 3 (Ubuntu Linux)",
   "language": "python",
   "metadata": {
    "cocalc": {
     "description": "Python 3 programming language",
     "priority": 100,
     "url": "https://www.python.org/"
    }
   },
   "name": "python3"
  },
  "language_info": {
   "codemirror_mode": {
    "name": "ipython",
    "version": 3
   },
   "file_extension": ".py",
   "mimetype": "text/x-python",
   "name": "python",
   "nbconvert_exporter": "python",
   "pygments_lexer": "ipython3",
   "version": "3.6.7"
  }
 },
 "nbformat": 4,
 "nbformat_minor": 0
}