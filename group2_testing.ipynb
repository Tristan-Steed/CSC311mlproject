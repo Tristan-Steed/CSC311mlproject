{
 "cells": [
  {
   "cell_type": "markdown",
   "metadata": {},
   "source": [
    "# Testing\n"
   ]
  },
  {
   "cell_type": "markdown",
   "metadata": {},
   "source": [
    "# Importing libraries"
   ]
  },
  {
   "cell_type": "code",
   "execution_count": 12,
   "metadata": {},
   "outputs": [],
   "source": [
    "import numpy as np\n",
    "from sklearn.metrics import classification_report, confusion_matrix\n",
    "from sklearn.metrics import accuracy_score\n",
    "from sklearn.preprocessing import StandardScaler\n",
    "from sklearn.model_selection import cross_val_score, train_test_split\n",
    "from matplotlib.colors import ListedColormap\n",
    "import matplotlib.pyplot as plt\n",
    "from matplotlib import rcParams\n",
    "import pandas as pd\n",
    "\n",
    "import pickle\n",
    "f = open('Logistc_regression_model','rb')\n",
    "clf = pickle.load(f)\n",
    "\n",
    "%matplotlib inline"
   ]
  },
  {
   "cell_type": "markdown",
   "metadata": {},
   "source": [
    "# Importing files"
   ]
  },
  {
   "cell_type": "code",
   "execution_count": 13,
   "metadata": {},
   "outputs": [],
   "source": [
    "data = np.genfromtxt(\"group2_te.csv\",delimiter=\",\", dtype=\"int\")\n",
    "n = data.shape[1] - 1\n",
    "X_test = data[:,0:n]\n",
    "y_test = data[:,n:n+1]"
   ]
  },
  {
   "cell_type": "markdown",
   "metadata": {},
   "source": [
    "# Scaling data"
   ]
  },
  {
   "cell_type": "code",
   "execution_count": 14,
   "metadata": {},
   "outputs": [
    {
     "name": "stderr",
     "output_type": "stream",
     "text": [
      "/anaconda3/lib/python3.7/site-packages/sklearn/utils/validation.py:595: DataConversionWarning: Data with input dtype int64 was converted to float64 by StandardScaler.\n",
      "  warnings.warn(msg, DataConversionWarning)\n",
      "/anaconda3/lib/python3.7/site-packages/sklearn/utils/validation.py:595: DataConversionWarning: Data with input dtype int64 was converted to float64 by StandardScaler.\n",
      "  warnings.warn(msg, DataConversionWarning)\n"
     ]
    }
   ],
   "source": [
    "sc = StandardScaler()\n",
    "sc.fit(X_test)\n",
    "X_test = sc.transform(X_test)"
   ]
  },
  {
   "cell_type": "markdown",
   "metadata": {},
   "source": [
    "# Testing and results Generation"
   ]
  },
  {
   "cell_type": "markdown",
   "metadata": {},
   "source": [
    "# Overall Accuracy"
   ]
  },
  {
   "cell_type": "code",
   "execution_count": 15,
   "metadata": {},
   "outputs": [
    {
     "name": "stdout",
     "output_type": "stream",
     "text": [
      "0.8855\n",
      "-------------------\n",
      "[9 1 6 ... 1 0 7]\n"
     ]
    }
   ],
   "source": [
    "score = clf.score(X_test, y_test)\n",
    "y_pred = clf.predict(X_test)\n",
    "\n",
    "print(score)\n",
    "print(\"-------------------\")\n",
    "print(y_pred)"
   ]
  },
  {
   "cell_type": "markdown",
   "metadata": {},
   "source": [
    "# Confusion Matrix"
   ]
  },
  {
   "cell_type": "code",
   "execution_count": 16,
   "metadata": {},
   "outputs": [
    {
     "name": "stdout",
     "output_type": "stream",
     "text": [
      "[[186   0   4   1   1   3   1   0   0   0]\n",
      " [  0 168   1   1   0   0   0   1   1   0]\n",
      " [  0   2 183   5   3   2   6   4   7   1]\n",
      " [  2   4   5 172   1   9   1   1   5   4]\n",
      " [  0   1   2   3 183   0   1   2   2   7]\n",
      " [  2   3   4  12   1 187   7   0   5   2]\n",
      " [  1   1   3   0   2   2 171   0   0   1]\n",
      " [  0   2   1   4   1   0   0 170   0   7]\n",
      " [  5   6   3   3   3  11   0   1 169   6]\n",
      " [  2   2   3   7   9   0   0  11   2 182]]\n"
     ]
    }
   ],
   "source": [
    "print(confusion_matrix(y_test, y_pred))"
   ]
  },
  {
   "cell_type": "markdown",
   "metadata": {},
   "source": [
    "# Testing Metrics"
   ]
  },
  {
   "cell_type": "code",
   "execution_count": 17,
   "metadata": {},
   "outputs": [
    {
     "name": "stdout",
     "output_type": "stream",
     "text": [
      "              precision    recall  f1-score   support\n",
      "\n",
      "           0       0.94      0.95      0.94       196\n",
      "           1       0.89      0.98      0.93       172\n",
      "           2       0.88      0.86      0.87       213\n",
      "           3       0.83      0.84      0.83       204\n",
      "           4       0.90      0.91      0.90       201\n",
      "           5       0.87      0.84      0.86       223\n",
      "           6       0.91      0.94      0.93       181\n",
      "           7       0.89      0.92      0.91       185\n",
      "           8       0.88      0.82      0.85       207\n",
      "           9       0.87      0.83      0.85       218\n",
      "\n",
      "   micro avg       0.89      0.89      0.89      2000\n",
      "   macro avg       0.89      0.89      0.89      2000\n",
      "weighted avg       0.89      0.89      0.88      2000\n",
      "\n"
     ]
    }
   ],
   "source": [
    "print(classification_report(y_test,y_pred))"
   ]
  },
  {
   "cell_type": "markdown",
   "metadata": {},
   "source": [
    "# Per Class Accuracy"
   ]
  },
  {
   "cell_type": "code",
   "execution_count": 18,
   "metadata": {
    "scrolled": true
   },
   "outputs": [
    {
     "name": "stdout",
     "output_type": "stream",
     "text": [
      "[[0.94897959 0.         0.02040816 0.00510204 0.00510204 0.01530612\n",
      "  0.00510204 0.         0.         0.        ]\n",
      " [0.         0.97674419 0.00581395 0.00581395 0.         0.\n",
      "  0.         0.00581395 0.00581395 0.        ]\n",
      " [0.         0.00938967 0.85915493 0.02347418 0.01408451 0.00938967\n",
      "  0.02816901 0.01877934 0.03286385 0.00469484]\n",
      " [0.00980392 0.01960784 0.0245098  0.84313725 0.00490196 0.04411765\n",
      "  0.00490196 0.00490196 0.0245098  0.01960784]\n",
      " [0.         0.00497512 0.00995025 0.01492537 0.91044776 0.\n",
      "  0.00497512 0.00995025 0.00995025 0.03482587]\n",
      " [0.00896861 0.01345291 0.01793722 0.05381166 0.0044843  0.83856502\n",
      "  0.03139013 0.         0.02242152 0.00896861]\n",
      " [0.00552486 0.00552486 0.01657459 0.         0.01104972 0.01104972\n",
      "  0.94475138 0.         0.         0.00552486]\n",
      " [0.         0.01081081 0.00540541 0.02162162 0.00540541 0.\n",
      "  0.         0.91891892 0.         0.03783784]\n",
      " [0.02415459 0.02898551 0.01449275 0.01449275 0.01449275 0.0531401\n",
      "  0.         0.00483092 0.81642512 0.02898551]\n",
      " [0.00917431 0.00917431 0.01376147 0.03211009 0.0412844  0.\n",
      "  0.         0.05045872 0.00917431 0.83486239]]\n",
      "[0.9489795918367347, 0.9767441860465116, 0.8591549295774648, 0.8431372549019608, 0.9104477611940298, 0.8385650224215246, 0.9447513812154696, 0.918918918918919, 0.8164251207729468, 0.8348623853211009]\n"
     ]
    }
   ],
   "source": [
    "con_m = (confusion_matrix(y_test, y_pred))\n",
    "con_mi = con_m.astype('float')/con_m.sum(axis=1)[:,np.newaxis]\n",
    "cm_accuarcies = []\n",
    "print(con_mi)\n",
    "\n",
    "for i in range(10):\n",
    "    cm_accuarcies.append(con_mi[i][i])\n",
    "print(cm_accuarcies)"
   ]
  },
  {
   "cell_type": "code",
   "execution_count": 19,
   "metadata": {},
   "outputs": [
    {
     "data": {
      "text/plain": [
       "Text(0, 0.5, 'Per Class Accuracies')"
      ]
     },
     "execution_count": 19,
     "metadata": {},
     "output_type": "execute_result"
    },
    {
     "data": {
      "image/png": "[encoded data removed]",
      "text/plain": [
       "<Figure size 432x288 with 1 Axes>"
      ]
     },
     "metadata": {
      "needs_background": "light"
     },
     "output_type": "display_data"
    }
   ],
   "source": [
    "labels = [1,2,3,4,5,6,7,8,9,10]\n",
    "\n",
    "plt.plot(labels,cm_accuarcies)\n",
    "plt.xlabel('Classes')\n",
    "plt.ylabel('Per Class Accuracies')"
   ]
  },
  {
   "cell_type": "code",
   "execution_count": 20,
   "metadata": {},
   "outputs": [
    {
     "data": {
      "text/plain": [
       "<matplotlib.axes._subplots.AxesSubplot at 0x1a28f2a080>"
      ]
     },
     "execution_count": 20,
     "metadata": {},
     "output_type": "execute_result"
    },
    {
     "data": {
      "image/png": "[encoded data removed]",
      "text/plain": [
       "<Figure size 576x576 with 2 Axes>"
      ]
     },
     "metadata": {
      "needs_background": "light"
     },
     "output_type": "display_data"
    }
   ],
   "source": [
    "from matplotlib import pyplot as plt\n",
    "import seaborn as sn\n",
    "\n",
    "plt.figure(figsize=(8,8))\n",
    "sn.heatmap(con_m, annot = True, annot_kws= {\"size\":15}, fmt=\"d\", linewidth = 1, linecolor = \"g\", xticklabels = False)"
   ]
  },
  {
   "cell_type": "code",
   "execution_count": 21,
   "metadata": {},
   "outputs": [
    {
     "name": "stdout",
     "output_type": "stream",
     "text": [
      "[6]\n"
     ]
    },
    {
     "data": {
      "image/png": "[encoded data removed]",
      "text/plain": [
       "<Figure size 432x288 with 1 Axes>"
      ]
     },
     "metadata": {
      "needs_background": "light"
     },
     "output_type": "display_data"
    }
   ],
   "source": [
    "indextoshow = 89 #Change this as desired\n",
    "\n",
    "X = X_test[indextoshow]\n",
    "X.shape = (28, 28)\n",
    "plt.imshow(255-X, 'gray', interpolation=\"nearest\")\n",
    "\n",
    "y_pred = clf.predict( [X_test[indextoshow]] )\n",
    "print(y_pred)"
   ]
  },
  {
   "cell_type": "code",
   "execution_count": null,
   "metadata": {},
   "outputs": [],
   "source": []
  },
  {
   "cell_type": "code",
   "execution_count": null,
   "metadata": {},
   "outputs": [],
   "source": []
  },
  {
   "cell_type": "code",
   "execution_count": null,
   "metadata": {},
   "outputs": [],
   "source": []
  },
  {
   "cell_type": "code",
   "execution_count": null,
   "metadata": {},
   "outputs": [],
   "source": []
  }
 ],
 "metadata": {
  "kernelspec": {
   "display_name": "Python 3",
   "language": "python",
   "name": "python3"
  },
  "language_info": {
   "codemirror_mode": {
    "name": "ipython",
    "version": 3
   },
   "file_extension": ".py",
   "mimetype": "text/x-python",
   "name": "python",
   "nbconvert_exporter": "python",
   "pygments_lexer": "ipython3",
   "version": "3.7.3"
  }
 },
 "nbformat": 4,
 "nbformat_minor": 2
}
